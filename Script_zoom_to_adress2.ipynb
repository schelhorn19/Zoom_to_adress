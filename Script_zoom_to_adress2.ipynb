{
 "cells": [
  {
   "cell_type": "markdown",
   "metadata": {},
   "source": [
    "# 🗺️ Zoom_to_adress: R Notebook\n",
    "Dieses Notebook lädt automatisch alle benötigten Pakete, definiert die Funktion `meine_funktion()` und führt sie online aus (z. B. auf Binder oder JupyterLab)."
   ]
  },
  {
   "cell_type": "code",
   "metadata": {},
   "source": [
    "# -------------------------\n",
    "# 📦 Pakete prüfen & laden\n",
    "# -------------------------\n",
    "for (pkg in c('tidygeocoder', 'dplyr', 'terra', 'stringr', 'raster', 'curl')) {\n",
    "  if (!requireNamespace(pkg, quietly = TRUE)) install.packages(pkg)\n",
    "  library(pkg, character.only = TRUE)\n",
    "}"
   ]
  },
  {
   "cell_type": "code",
   "metadata": {},
   "source": [
    "# -------------------------\n",
    "# 🧭 FUNKTION: meine_funktion()\n",
    "# -------------------------\n",
    "meine_funktion <- function(p_adresse, p_save_path, p_buffer_1, p_buffer_2){\n",
    "  \n",
    "  # Pakete\n",
    "  library(tidygeocoder)\n",
    "  library(dplyr)\n",
    "  library(terra)\n",
    "  library(raster)\n",
    "  \n",
    "  # Adresse geokodieren\n",
    "  l_adresse <- p_adresse %>% geocode(address = adresse, method = 'osm')\n",
    "  l_adresse <- data.frame(l_adresse)\n",
    "  v <- vect(l_adresse, geom = c('long', 'lat'), crs = 'EPSG:4326')\n",
    "  v_utm <- project(v, 'EPSG:25832')\n",
    "  v_gk3 <- project(v, 'EPSG:31467')\n",
    "\n",
    "  # Pfade vorbereiten\n",
    "  p_tif <- data.frame(x = as.numeric(substr(geom(v_utm)[,'x'], 1 , 3)), y = as.numeric(substr(geom(v_utm)[,'y'], 1 , 4)))\n",
    "  l_url <- paste('https://opengeodata.lgl-bw.de/data/dgm/', 'dgm1_32_', p_tif[1, 'x'], '_', p_tif[1, 'y'], '_2_bw', '.zip', sep = '')\n",
    "  destfile <- paste0(p_save_path, '/', p_tif[, 'x'], '_', p_tif[, 'y'], '_2_bw.zip')\n",
    "\n",
    "  # Download\n",
    "  download.file(l_url, destfile = destfile, method = 'curl')\n",
    "  unzip(destfile, exdir = p_save_path)\n",
    "\n",
    "  # Dateien lesen\n",
    "  unzipped_folder <- paste0(p_save_path, '/dgm1_32_', p_tif[1,'x'], '_', p_tif[1,'y'], '_2_bw')\n",
    "  p_xyz <- list.files(unzipped_folder, pattern = '\\\\.xyz$', full.names = TRUE)\n",
    "  if (length(p_xyz) == 0) stop('Keine XYZ-Dateien gefunden.')\n",
    "\n",
    "  list_xyz <- lapply(p_xyz, function(f) read.csv(f, sep = '', dec = ',', header = FALSE))\n",
    "  dgm_df_all <- do.call(rbind, list_xyz)\n",
    "  dgm <- rasterFromXYZ(dgm_df_all, crs='+init=EPSG:25832')\n",
    "  dgm <- projectRaster(dgm, crs='+init=epsg:31467')\n",
    "  dgm <- rast(dgm)\n",
    "\n",
    "  # Plotfunktion\n",
    "  zoom_to_point <- function(raster, point, buffer = 200, col_point = 'red') {\n",
    "    pt <- geom(point)\n",
    "    x <- pt[1, 'x']; y <- pt[1, 'y']\n",
    "    xlim <- c(x - buffer, x + buffer)\n",
    "    ylim <- c(y - buffer, y + buffer)\n",
    "    plot(raster, xlim = xlim, ylim = ylim)\n",
    "    plot(point, add = TRUE, pch = 16, col = col_point, cex = 2)\n",
    "  }\n",
    "\n",
    "  # Plotten\n",
    "  par(mfrow = c(1, 3))\n",
    "  plot(dgm)\n",
    "  plot(v_gk3, add = TRUE, pch = 16, col = 'red')\n",
    "  zoom_to_point(dgm, v_gk3, buffer = p_buffer_1)\n",
    "  zoom_to_point(dgm, v_gk3, buffer = p_buffer_2)\n",
    "\n",
    "  message('✅ Fertig! Alles durchgelaufen.')\n",
    "  return(list(raster = dgm, punkt = v_gk3))\n",
    "}"
   ]
  },
  {
   "cell_type": "code",
   "metadata": {},
   "source": [
    "# -------------------------\n",
    "# 🚀 Aufruf der Funktion\n",
    "# -------------------------\n",
    "meine_funktion(\n",
    "  p_adresse = data.frame(adresse = 'Belfortstraße 15, 79098 Freiburg, Deutschland'),\n",
    "  p_save_path = '/home/jovyan',\n",
    "  p_buffer_1 = 100,\n",
    "  p_buffer_2 = 10\n",
    ")"
   ]
  }
 ],
 "metadata": {
  "kernelspec": {
   "display_name": "R",
   "language": "R",
   "name": "ir"
  },
  "language_info": {
   "codemirror_mode": "r",
   "file_extension": ".r",
   "mimetype": "text/x-r-source",
   "name": "R"
  }
 },
 "nbformat": 4,
 "nbformat_minor": 5
}
